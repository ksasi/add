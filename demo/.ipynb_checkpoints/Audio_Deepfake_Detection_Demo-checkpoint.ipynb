{
 "cells": [
  {
   "cell_type": "code",
   "execution_count": 1,
   "id": "605eb31a",
   "metadata": {},
   "outputs": [],
   "source": [
    "import sys\n",
    "sys.path.append('/home/ubuntu/SSL_Anti-spoofing')"
   ]
  },
  {
   "cell_type": "code",
   "execution_count": 2,
   "id": "FkRwtf64AZzw",
   "metadata": {
    "id": "FkRwtf64AZzw"
   },
   "outputs": [
    {
     "name": "stderr",
     "output_type": "stream",
     "text": [
      "/opt/conda/envs/SSL_Spoofing/lib/python3.7/site-packages/tqdm/auto.py:21: TqdmWarning: IProgress not found. Please update jupyter and ipywidgets. See https://ipywidgets.readthedocs.io/en/stable/user_install.html\n",
      "  from .autonotebook import tqdm as notebook_tqdm\n",
      "/opt/conda/envs/SSL_Spoofing/lib/python3.7/site-packages/tqdm/auto.py:21: TqdmWarning: IProgress not found. Please update jupyter and ipywidgets. See https://ipywidgets.readthedocs.io/en/stable/user_install.html\n",
      "  from .autonotebook import tqdm as notebook_tqdm\n",
      "/opt/conda/envs/SSL_Spoofing/lib/python3.7/site-packages/tqdm/auto.py:21: TqdmWarning: IProgress not found. Please update jupyter and ipywidgets. See https://ipywidgets.readthedocs.io/en/stable/user_install.html\n",
      "  from .autonotebook import tqdm as notebook_tqdm\n"
     ]
    }
   ],
   "source": [
    "import argparse\n",
    "import sys\n",
    "import os\n",
    "import numpy as np\n",
    "import librosa\n",
    "import torch\n",
    "from torch import nn\n",
    "from torch import Tensor\n",
    "from torch.utils.data import Dataset, DataLoader\n",
    "from model import Model\n",
    "from tensorboardX import SummaryWriter\n",
    "from core_scripts.startup_config import set_random_seed\n",
    "from sklearn.metrics import roc_curve, auc\n",
    "from scipy.optimize import brentq\n",
    "from scipy.interpolate import interp1d\n",
    "import glob\n",
    "import wandb\n",
    "import itertools"
   ]
  },
  {
   "cell_type": "code",
   "execution_count": 3,
   "id": "NgIjQLMwDDVh",
   "metadata": {
    "colab": {
     "base_uri": "https://localhost:8080/"
    },
    "id": "NgIjQLMwDDVh",
    "outputId": "5c4783e1-c3e5-464d-f7e3-b44759a4eb07"
   },
   "outputs": [],
   "source": [
    "def pad(x, max_len=64600):\n",
    "    x_len = x.shape[0]\n",
    "    if x_len >= max_len:\n",
    "        return x[:max_len]\n",
    "    # need to pad\n",
    "    num_repeats = int(max_len / x_len)+1\n",
    "    padded_x = np.tile(x, (1, num_repeats))[:, :max_len][0]\n",
    "    return padded_x"
   ]
  },
  {
   "cell_type": "code",
   "execution_count": 4,
   "id": "7afd0114",
   "metadata": {},
   "outputs": [],
   "source": [
    "# Ref : https://www.kaggle.com/discussions/general/213391\n",
    "def soundDataToFloat(SD):\n",
    "    \"Converts integer representation back into librosa-friendly floats, given a numpy array SD\"\n",
    "    return np.array([ np.float64((s>>2)/(32768.0)) for s in SD])"
   ]
  },
  {
   "cell_type": "code",
   "execution_count": 5,
   "id": "d6fv1jXSAZz0",
   "metadata": {
    "id": "d6fv1jXSAZz0"
   },
   "outputs": [],
   "source": [
    "# Loading LA track model fine-tuned on FOR dataset\n",
    "model_path='/home/ubuntu/add/models/model_LA_weighted_CCE_30_128_0.0001_finetune/epoch_28.pth'\n",
    "\n",
    "def check_fake(audio_file, model_path=model_path):\n",
    "    #audio_int, org_sr = audio_file[1], audio_file[0]\n",
    "    #audio = soundDataToFloat(audio_int)\n",
    "    audio, org_sr = librosa.load(audio_file, sr=16000)\n",
    "    audio_pad = pad(audio,64600)\n",
    "    audio_input = Tensor(audio_pad)\n",
    "    device = 'cuda' if torch.cuda.is_available() else 'cpu'\n",
    "    model = Model('args', device)\n",
    "    model.load_state_dict(torch.load(model_path,map_location=device))\n",
    "    output = model(audio_input.unsqueeze(0))[:, 1].data.cpu().numpy().ravel()[0]\n",
    "    if output > 0.8:\n",
    "        return 'real'\n",
    "    else:\n",
    "        return 'fake'"
   ]
  },
  {
   "cell_type": "code",
   "execution_count": null,
   "id": "arVctFP3AZz1",
   "metadata": {
    "colab": {
     "base_uri": "https://localhost:8080/",
     "height": 612
    },
    "id": "arVctFP3AZz1",
    "outputId": "751acf4c-aca6-4a3c-ff64-e52524627820"
   },
   "outputs": [
    {
     "name": "stdout",
     "output_type": "stream",
     "text": [
      "Running on local URL:  http://127.0.0.1:7860\n",
      "Running on local URL:  http://127.0.0.1:7860\n",
      "Running on local URL:  http://127.0.0.1:7860\n"
     ]
    }
   ],
   "source": [
    "import gradio as gr\n",
    "\n",
    "demo = gr.Interface(\n",
    "    title=\"Audio Deepfake Detection!\",\n",
    "    fn=check_fake,\n",
    "    inputs = gr.Audio(type=\"filepath\"),\n",
    "    outputs=[\"text\"],\n",
    ")\n",
    "demo.launch(share=True, debug=True)"
   ]
  },
  {
   "cell_type": "code",
   "execution_count": null,
   "id": "b9f0ba29",
   "metadata": {},
   "outputs": [],
   "source": []
  },
  {
   "cell_type": "code",
   "execution_count": null,
   "id": "343901da",
   "metadata": {},
   "outputs": [],
   "source": []
  }
 ],
 "metadata": {
  "colab": {
   "provenance": []
  },
  "kernelspec": {
   "display_name": "Python 3 (ipykernel)",
   "language": "python",
   "name": "python3"
  },
  "language_info": {
   "codemirror_mode": {
    "name": "ipython",
    "version": 3
   },
   "file_extension": ".py",
   "mimetype": "text/x-python",
   "name": "python",
   "nbconvert_exporter": "python",
   "pygments_lexer": "ipython3",
   "version": "3.7.12"
  }
 },
 "nbformat": 4,
 "nbformat_minor": 5
}
